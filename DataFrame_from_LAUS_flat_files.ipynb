{
 "cells": [
  {
   "cell_type": "code",
   "execution_count": 1,
   "metadata": {
    "id": "x5nFBMr5n2Ss"
   },
   "outputs": [],
   "source": [
    "# Import some useful libraries\n",
    "\n",
    "import pandas as pd\n",
    "import numpy as np"
   ]
  },
  {
   "cell_type": "code",
   "execution_count": 2,
   "metadata": {
    "id": "eP7g2LBHiYlV"
   },
   "outputs": [],
   "source": [
    "# Import some more libraries that will help retrieval from the web using urls\n",
    "\n",
    "import urllib\n",
    "from urllib.request import urlretrieve\n",
    "\n",
    "# urls for time series and area code data\n",
    "url1 = \"https://download.bls.gov/pub/time.series/la/la.data.60.Metro\"\n",
    "url2 = \"https://download.bls.gov/pub/time.series/la/la.area\""
   ]
  },
  {
   "cell_type": "code",
   "execution_count": 3,
   "metadata": {
    "colab": {
     "base_uri": "https://localhost:8080/"
    },
    "id": "6iBIdP4jiYe0",
    "outputId": "0bb5d942-d00c-4cd1-c8e7-8e356b15cc12"
   },
   "outputs": [
    {
     "data": {
      "text/plain": [
       "('/Users/toluayangbayi/Documents/DataScience/Using-LAUS-flatfiles/area_codes.csv',\n",
       " <http.client.HTTPMessage at 0x7f93cf085910>)"
      ]
     },
     "execution_count": 3,
     "metadata": {},
     "output_type": "execute_result"
    }
   ],
   "source": [
    "# Save the data as .csv\n",
    "\n",
    "urlretrieve(url1, '/Users/toluayangbayi/Documents/DataScience/Using-LAUS-flatfiles/timeseries.csv')\n",
    "urlretrieve(url2, '/Users/toluayangbayi/Documents/DataScience/Using-LAUS-flatfiles/area_codes.csv')"
   ]
  },
  {
   "cell_type": "code",
   "execution_count": 4,
   "metadata": {
    "colab": {
     "base_uri": "https://localhost:8080/"
    },
    "id": "3ClUqdIEiYYq",
    "outputId": "9632acdd-c409-4217-9b98-b88f24210416"
   },
   "outputs": [
    {
     "name": "stderr",
     "output_type": "stream",
     "text": [
      "/Users/toluayangbayi/opt/anaconda3/lib/python3.8/site-packages/IPython/core/interactiveshell.py:3441: DtypeWarning: Columns (3) have mixed types.Specify dtype option on import or set low_memory=False.\n",
      "  exec(code_obj, self.user_global_ns, self.user_ns)\n"
     ]
    }
   ],
   "source": [
    "# Read in time series data\n",
    "\n",
    "df1 = pd.read_csv('/Users/toluayangbayi/Documents/DataScience/Using-LAUS-flatfiles/timeseries.csv', delimiter=\"\\t\")"
   ]
  },
  {
   "cell_type": "code",
   "execution_count": 5,
   "metadata": {
    "colab": {
     "base_uri": "https://localhost:8080/",
     "height": 206
    },
    "id": "VaUzmaAktz_O",
    "outputId": "fa62711f-bfee-4f3c-bd59-abb7d58fe313"
   },
   "outputs": [
    {
     "data": {
      "text/html": [
       "<div>\n",
       "<style scoped>\n",
       "    .dataframe tbody tr th:only-of-type {\n",
       "        vertical-align: middle;\n",
       "    }\n",
       "\n",
       "    .dataframe tbody tr th {\n",
       "        vertical-align: top;\n",
       "    }\n",
       "\n",
       "    .dataframe thead th {\n",
       "        text-align: right;\n",
       "    }\n",
       "</style>\n",
       "<table border=\"1\" class=\"dataframe\">\n",
       "  <thead>\n",
       "    <tr style=\"text-align: right;\">\n",
       "      <th></th>\n",
       "      <th>series_id</th>\n",
       "      <th>year</th>\n",
       "      <th>period</th>\n",
       "      <th>value</th>\n",
       "      <th>footnote_codes</th>\n",
       "    </tr>\n",
       "  </thead>\n",
       "  <tbody>\n",
       "    <tr>\n",
       "      <th>0</th>\n",
       "      <td>LASMT261982000000003</td>\n",
       "      <td>1990</td>\n",
       "      <td>M01</td>\n",
       "      <td>7.6</td>\n",
       "      <td>NaN</td>\n",
       "    </tr>\n",
       "    <tr>\n",
       "      <th>1</th>\n",
       "      <td>LASMT261982000000003</td>\n",
       "      <td>1990</td>\n",
       "      <td>M02</td>\n",
       "      <td>7.6</td>\n",
       "      <td>NaN</td>\n",
       "    </tr>\n",
       "    <tr>\n",
       "      <th>2</th>\n",
       "      <td>LASMT261982000000003</td>\n",
       "      <td>1990</td>\n",
       "      <td>M03</td>\n",
       "      <td>7.5</td>\n",
       "      <td>NaN</td>\n",
       "    </tr>\n",
       "    <tr>\n",
       "      <th>3</th>\n",
       "      <td>LASMT261982000000003</td>\n",
       "      <td>1990</td>\n",
       "      <td>M04</td>\n",
       "      <td>7.6</td>\n",
       "      <td>NaN</td>\n",
       "    </tr>\n",
       "    <tr>\n",
       "      <th>4</th>\n",
       "      <td>LASMT261982000000003</td>\n",
       "      <td>1990</td>\n",
       "      <td>M05</td>\n",
       "      <td>7.6</td>\n",
       "      <td>NaN</td>\n",
       "    </tr>\n",
       "  </tbody>\n",
       "</table>\n",
       "</div>"
      ],
      "text/plain": [
       "   series_id                       year period        value footnote_codes\n",
       "0  LASMT261982000000003            1990    M01          7.6            NaN\n",
       "1  LASMT261982000000003            1990    M02          7.6            NaN\n",
       "2  LASMT261982000000003            1990    M03          7.5            NaN\n",
       "3  LASMT261982000000003            1990    M04          7.6            NaN\n",
       "4  LASMT261982000000003            1990    M05          7.6            NaN"
      ]
     },
     "execution_count": 5,
     "metadata": {},
     "output_type": "execute_result"
    }
   ],
   "source": [
    "# Check the first five rows\n",
    "\n",
    "df1.head()"
   ]
  },
  {
   "cell_type": "code",
   "execution_count": 6,
   "metadata": {
    "colab": {
     "base_uri": "https://localhost:8080/",
     "height": 206
    },
    "id": "gq1-GNccxXkW",
    "outputId": "5e7968d2-c96f-4052-e21d-601f3c8cbb8e"
   },
   "outputs": [
    {
     "data": {
      "text/html": [
       "<div>\n",
       "<style scoped>\n",
       "    .dataframe tbody tr th:only-of-type {\n",
       "        vertical-align: middle;\n",
       "    }\n",
       "\n",
       "    .dataframe tbody tr th {\n",
       "        vertical-align: top;\n",
       "    }\n",
       "\n",
       "    .dataframe thead th {\n",
       "        text-align: right;\n",
       "    }\n",
       "</style>\n",
       "<table border=\"1\" class=\"dataframe\">\n",
       "  <thead>\n",
       "    <tr style=\"text-align: right;\">\n",
       "      <th></th>\n",
       "      <th>series_id</th>\n",
       "      <th>year</th>\n",
       "      <th>period</th>\n",
       "      <th>value</th>\n",
       "      <th>footnote_codes</th>\n",
       "    </tr>\n",
       "  </thead>\n",
       "  <tbody>\n",
       "    <tr>\n",
       "      <th>655667</th>\n",
       "      <td>LAUMT724198000000006</td>\n",
       "      <td>2021</td>\n",
       "      <td>M05</td>\n",
       "      <td>733777</td>\n",
       "      <td>NaN</td>\n",
       "    </tr>\n",
       "    <tr>\n",
       "      <th>655668</th>\n",
       "      <td>LAUMT724198000000006</td>\n",
       "      <td>2021</td>\n",
       "      <td>M06</td>\n",
       "      <td>723130</td>\n",
       "      <td>NaN</td>\n",
       "    </tr>\n",
       "    <tr>\n",
       "      <th>655669</th>\n",
       "      <td>LAUMT724198000000006</td>\n",
       "      <td>2021</td>\n",
       "      <td>M07</td>\n",
       "      <td>721640</td>\n",
       "      <td>NaN</td>\n",
       "    </tr>\n",
       "    <tr>\n",
       "      <th>655670</th>\n",
       "      <td>LAUMT724198000000006</td>\n",
       "      <td>2021</td>\n",
       "      <td>M08</td>\n",
       "      <td>730164</td>\n",
       "      <td>NaN</td>\n",
       "    </tr>\n",
       "    <tr>\n",
       "      <th>655671</th>\n",
       "      <td>LAUMT724198000000006</td>\n",
       "      <td>2021</td>\n",
       "      <td>M09</td>\n",
       "      <td>733179</td>\n",
       "      <td>P</td>\n",
       "    </tr>\n",
       "  </tbody>\n",
       "</table>\n",
       "</div>"
      ],
      "text/plain": [
       "        series_id                       year period         value  \\\n",
       "655667  LAUMT724198000000006            2021    M05        733777   \n",
       "655668  LAUMT724198000000006            2021    M06        723130   \n",
       "655669  LAUMT724198000000006            2021    M07        721640   \n",
       "655670  LAUMT724198000000006            2021    M08        730164   \n",
       "655671  LAUMT724198000000006            2021    M09        733179   \n",
       "\n",
       "       footnote_codes  \n",
       "655667            NaN  \n",
       "655668            NaN  \n",
       "655669            NaN  \n",
       "655670            NaN  \n",
       "655671              P  "
      ]
     },
     "execution_count": 6,
     "metadata": {},
     "output_type": "execute_result"
    }
   ],
   "source": [
    "# Check the last five rows\n",
    "\n",
    "df1.tail()"
   ]
  },
  {
   "cell_type": "code",
   "execution_count": 7,
   "metadata": {
    "colab": {
     "base_uri": "https://localhost:8080/"
    },
    "id": "_2-My5pI6Cj-",
    "outputId": "e00039f2-097e-43e7-de57-5f92a4ce5b07"
   },
   "outputs": [
    {
     "name": "stdout",
     "output_type": "stream",
     "text": [
      "<class 'pandas.core.frame.DataFrame'>\n",
      "RangeIndex: 655672 entries, 0 to 655671\n",
      "Data columns (total 5 columns):\n",
      " #   Column                          Non-Null Count   Dtype \n",
      "---  ------                          --------------   ----- \n",
      " 0   series_id                       655672 non-null  object\n",
      " 1   year                            655672 non-null  int64 \n",
      " 2   period                          655672 non-null  object\n",
      " 3          value                    655672 non-null  object\n",
      " 4   footnote_codes                  1716 non-null    object\n",
      "dtypes: int64(1), object(4)\n",
      "memory usage: 25.0+ MB\n"
     ]
    }
   ],
   "source": [
    "# For some general info about the data\n",
    " \n",
    "df1.info()"
   ]
  },
  {
   "cell_type": "code",
   "execution_count": 8,
   "metadata": {
    "colab": {
     "base_uri": "https://localhost:8080/"
    },
    "id": "y02-c0YHDLvk",
    "outputId": "617c15bd-c2ee-4a5e-e562-f838d33088b5"
   },
   "outputs": [
    {
     "data": {
      "text/plain": [
       "Index(['series_id                     ', 'year', 'period', '       value',\n",
       "       'footnote_codes'],\n",
       "      dtype='object')"
      ]
     },
     "execution_count": 8,
     "metadata": {},
     "output_type": "execute_result"
    }
   ],
   "source": [
    "# Looking at the info, I could see leading whitespace around the column called value so I checked the column names\n",
    "# Doing this shows leading and trailing whitespaces around column names\n",
    "\n",
    "df1.columns"
   ]
  },
  {
   "cell_type": "code",
   "execution_count": 9,
   "metadata": {
    "id": "cMremb7NEWFJ"
   },
   "outputs": [],
   "source": [
    "# Rename columns to clear the whitespace\n",
    "# value is the indicator name in this case, I am aiming for the unemployment rate\n",
    "\n",
    "df1.rename(columns={'series_id                     ':'series_id', '       value':'unemployment'}, inplace=True)"
   ]
  },
  {
   "cell_type": "code",
   "execution_count": 10,
   "metadata": {
    "id": "KOHRd8iKh5-A"
   },
   "outputs": [],
   "source": [
    "# Drop the column containing footnote codes\n",
    "\n",
    "df1.drop('footnote_codes', axis = 1, inplace=True)"
   ]
  },
  {
   "cell_type": "code",
   "execution_count": 11,
   "metadata": {
    "id": "nQig-HaKnguV"
   },
   "outputs": [],
   "source": [
    "# Create a variable measure from series_id. I read from the metadata file that the last two characters of series_id \n",
    "# represent the name of an indicator. In this case 03 = unemployment rate. \n",
    "# See https://download.bls.gov/pub/time.series/la/la.measure for others\n",
    "\n",
    "df1['measure'] = df1['series_id'].apply(lambda x: x[18:].strip())"
   ]
  },
  {
   "cell_type": "code",
   "execution_count": 12,
   "metadata": {
    "colab": {
     "base_uri": "https://localhost:8080/"
    },
    "id": "mkZRX1e1SWsR",
    "outputId": "7aaf3aab-ac38-4688-fa24-81e96c292fcb"
   },
   "outputs": [
    {
     "name": "stdout",
     "output_type": "stream",
     "text": [
      "<class 'pandas.core.frame.DataFrame'>\n",
      "RangeIndex: 655672 entries, 0 to 655671\n",
      "Data columns (total 5 columns):\n",
      " #   Column        Non-Null Count   Dtype \n",
      "---  ------        --------------   ----- \n",
      " 0   series_id     655672 non-null  object\n",
      " 1   year          655672 non-null  int64 \n",
      " 2   period        655672 non-null  object\n",
      " 3   unemployment  655672 non-null  object\n",
      " 4   measure       655672 non-null  object\n",
      "dtypes: int64(1), object(4)\n",
      "memory usage: 25.0+ MB\n"
     ]
    }
   ],
   "source": [
    "# Since cleaning is an iterative process, I check the data again\n",
    "df1.info()"
   ]
  },
  {
   "cell_type": "code",
   "execution_count": 13,
   "metadata": {
    "colab": {
     "base_uri": "https://localhost:8080/",
     "height": 206
    },
    "id": "ovcG5o94j4ly",
    "outputId": "3f7f24ea-10ee-4fcf-b52f-655fbb6b0b8b"
   },
   "outputs": [
    {
     "data": {
      "text/html": [
       "<div>\n",
       "<style scoped>\n",
       "    .dataframe tbody tr th:only-of-type {\n",
       "        vertical-align: middle;\n",
       "    }\n",
       "\n",
       "    .dataframe tbody tr th {\n",
       "        vertical-align: top;\n",
       "    }\n",
       "\n",
       "    .dataframe thead th {\n",
       "        text-align: right;\n",
       "    }\n",
       "</style>\n",
       "<table border=\"1\" class=\"dataframe\">\n",
       "  <thead>\n",
       "    <tr style=\"text-align: right;\">\n",
       "      <th></th>\n",
       "      <th>series_id</th>\n",
       "      <th>year</th>\n",
       "      <th>period</th>\n",
       "      <th>unemployment</th>\n",
       "      <th>measure</th>\n",
       "    </tr>\n",
       "  </thead>\n",
       "  <tbody>\n",
       "    <tr>\n",
       "      <th>0</th>\n",
       "      <td>LASMT261982000000003</td>\n",
       "      <td>1990</td>\n",
       "      <td>M01</td>\n",
       "      <td>7.6</td>\n",
       "      <td>03</td>\n",
       "    </tr>\n",
       "    <tr>\n",
       "      <th>1</th>\n",
       "      <td>LASMT261982000000003</td>\n",
       "      <td>1990</td>\n",
       "      <td>M02</td>\n",
       "      <td>7.6</td>\n",
       "      <td>03</td>\n",
       "    </tr>\n",
       "    <tr>\n",
       "      <th>2</th>\n",
       "      <td>LASMT261982000000003</td>\n",
       "      <td>1990</td>\n",
       "      <td>M03</td>\n",
       "      <td>7.5</td>\n",
       "      <td>03</td>\n",
       "    </tr>\n",
       "    <tr>\n",
       "      <th>3</th>\n",
       "      <td>LASMT261982000000003</td>\n",
       "      <td>1990</td>\n",
       "      <td>M04</td>\n",
       "      <td>7.6</td>\n",
       "      <td>03</td>\n",
       "    </tr>\n",
       "    <tr>\n",
       "      <th>4</th>\n",
       "      <td>LASMT261982000000003</td>\n",
       "      <td>1990</td>\n",
       "      <td>M05</td>\n",
       "      <td>7.6</td>\n",
       "      <td>03</td>\n",
       "    </tr>\n",
       "  </tbody>\n",
       "</table>\n",
       "</div>"
      ],
      "text/plain": [
       "                        series_id  year period unemployment measure\n",
       "0  LASMT261982000000003            1990    M01          7.6      03\n",
       "1  LASMT261982000000003            1990    M02          7.6      03\n",
       "2  LASMT261982000000003            1990    M03          7.5      03\n",
       "3  LASMT261982000000003            1990    M04          7.6      03\n",
       "4  LASMT261982000000003            1990    M05          7.6      03"
      ]
     },
     "execution_count": 13,
     "metadata": {},
     "output_type": "execute_result"
    }
   ],
   "source": [
    "df1.head()"
   ]
  },
  {
   "cell_type": "code",
   "execution_count": 14,
   "metadata": {
    "colab": {
     "base_uri": "https://localhost:8080/"
    },
    "id": "PxYDd-Unj9bs",
    "outputId": "37d76fb9-c200-4889-c5b7-9e80d4e0d107"
   },
   "outputs": [
    {
     "data": {
      "text/plain": [
       "03    163918\n",
       "04    163918\n",
       "05    163918\n",
       "06    163918\n",
       "Name: measure, dtype: int64"
      ]
     },
     "execution_count": 14,
     "metadata": {},
     "output_type": "execute_result"
    }
   ],
   "source": [
    "# What other data values are in the measure variable?\n",
    "\n",
    "df1['measure'].value_counts()"
   ]
  },
  {
   "cell_type": "code",
   "execution_count": 15,
   "metadata": {
    "id": "0n6k3W3SrpDf"
   },
   "outputs": [],
   "source": [
    "# Filter unemployment data\n",
    "\n",
    "df1 = df1[df1['measure'] == '03']\n",
    "df1.reset_index(drop = True, inplace=True)"
   ]
  },
  {
   "cell_type": "code",
   "execution_count": 16,
   "metadata": {
    "colab": {
     "base_uri": "https://localhost:8080/",
     "height": 206
    },
    "id": "vHCCjJggkoH0",
    "outputId": "e8ea7926-abd4-4c7b-93ec-006dcf88de38"
   },
   "outputs": [
    {
     "data": {
      "text/html": [
       "<div>\n",
       "<style scoped>\n",
       "    .dataframe tbody tr th:only-of-type {\n",
       "        vertical-align: middle;\n",
       "    }\n",
       "\n",
       "    .dataframe tbody tr th {\n",
       "        vertical-align: top;\n",
       "    }\n",
       "\n",
       "    .dataframe thead th {\n",
       "        text-align: right;\n",
       "    }\n",
       "</style>\n",
       "<table border=\"1\" class=\"dataframe\">\n",
       "  <thead>\n",
       "    <tr style=\"text-align: right;\">\n",
       "      <th></th>\n",
       "      <th>series_id</th>\n",
       "      <th>year</th>\n",
       "      <th>period</th>\n",
       "      <th>unemployment</th>\n",
       "      <th>measure</th>\n",
       "    </tr>\n",
       "  </thead>\n",
       "  <tbody>\n",
       "    <tr>\n",
       "      <th>163913</th>\n",
       "      <td>LAUMT724198000000003</td>\n",
       "      <td>2021</td>\n",
       "      <td>M05</td>\n",
       "      <td>7.4</td>\n",
       "      <td>03</td>\n",
       "    </tr>\n",
       "    <tr>\n",
       "      <th>163914</th>\n",
       "      <td>LAUMT724198000000003</td>\n",
       "      <td>2021</td>\n",
       "      <td>M06</td>\n",
       "      <td>7.5</td>\n",
       "      <td>03</td>\n",
       "    </tr>\n",
       "    <tr>\n",
       "      <th>163915</th>\n",
       "      <td>LAUMT724198000000003</td>\n",
       "      <td>2021</td>\n",
       "      <td>M07</td>\n",
       "      <td>8.4</td>\n",
       "      <td>03</td>\n",
       "    </tr>\n",
       "    <tr>\n",
       "      <th>163916</th>\n",
       "      <td>LAUMT724198000000003</td>\n",
       "      <td>2021</td>\n",
       "      <td>M08</td>\n",
       "      <td>8.3</td>\n",
       "      <td>03</td>\n",
       "    </tr>\n",
       "    <tr>\n",
       "      <th>163917</th>\n",
       "      <td>LAUMT724198000000003</td>\n",
       "      <td>2021</td>\n",
       "      <td>M09</td>\n",
       "      <td>7.2</td>\n",
       "      <td>03</td>\n",
       "    </tr>\n",
       "  </tbody>\n",
       "</table>\n",
       "</div>"
      ],
      "text/plain": [
       "                             series_id  year period  unemployment measure\n",
       "163913  LAUMT724198000000003            2021    M05           7.4      03\n",
       "163914  LAUMT724198000000003            2021    M06           7.5      03\n",
       "163915  LAUMT724198000000003            2021    M07           8.4      03\n",
       "163916  LAUMT724198000000003            2021    M08           8.3      03\n",
       "163917  LAUMT724198000000003            2021    M09           7.2      03"
      ]
     },
     "execution_count": 16,
     "metadata": {},
     "output_type": "execute_result"
    }
   ],
   "source": [
    "df1.tail()"
   ]
  },
  {
   "cell_type": "code",
   "execution_count": 17,
   "metadata": {
    "colab": {
     "base_uri": "https://localhost:8080/"
    },
    "id": "eQRjvqZNSWpJ",
    "outputId": "e1b3f69e-e034-464e-c656-c96a7814e707"
   },
   "outputs": [
    {
     "name": "stdout",
     "output_type": "stream",
     "text": [
      "{161426: '           -', 161427: '           -', 161436: '           -', 161838: '           -', 161839: '           -', 161848: '           -', 162250: '           -', 162251: '           -', 162260: '           -', 162662: '           -', 162663: '           -', 162672: '           -', 163074: '           -', 163075: '           -', 163084: '           -', 163486: '           -', 163487: '           -', 163496: '           -', 163898: '           -', 163899: '           -', 163908: '           -'}\n",
      "21\n"
     ]
    }
   ],
   "source": [
    "# Need to convert unemployment values to float. Apparently some values were \"bad\" and cannot be changed by \n",
    "# directly applying float()\n",
    "# Build a dictionary of string unemployment values\n",
    "\n",
    "cnt = 0\n",
    "\n",
    "unemployment_dict = {}\n",
    "\n",
    "for row in df1['unemployment']:\n",
    "  if row is not None:\n",
    "    try:\n",
    "      float(row)\n",
    "      pass\n",
    "    except ValueError:\n",
    "      unemployment_dict[cnt] = row\n",
    "  cnt+=1\n",
    "\n",
    "print(unemployment_dict)\n",
    "print(len(unemployment_dict))"
   ]
  },
  {
   "cell_type": "code",
   "execution_count": 18,
   "metadata": {
    "colab": {
     "base_uri": "https://localhost:8080/"
    },
    "id": "Op09LIoSk9qu",
    "outputId": "06d94b42-686c-4d73-ed48-c2d1ad71c58a"
   },
   "outputs": [],
   "source": [
    "# check \n",
    "# df1.loc[161427]"
   ]
  },
  {
   "cell_type": "code",
   "execution_count": 19,
   "metadata": {
    "colab": {
     "base_uri": "https://localhost:8080/"
    },
    "id": "NCGuSPUxUwzi",
    "outputId": "66bb9e37-c62c-43b5-a79e-9ac5e401ff79"
   },
   "outputs": [
    {
     "name": "stdout",
     "output_type": "stream",
     "text": [
      "{161426: 'unavailable', 161427: 'unavailable', 161436: 'unavailable', 161838: 'unavailable', 161839: 'unavailable', 161848: 'unavailable', 162250: 'unavailable', 162251: 'unavailable', 162260: 'unavailable', 162662: 'unavailable', 162663: 'unavailable', 162672: 'unavailable', 163074: 'unavailable', 163075: 'unavailable', 163084: 'unavailable', 163486: 'unavailable', 163487: 'unavailable', 163496: 'unavailable', 163898: 'unavailable', 163899: 'unavailable', 163908: 'unavailable'}\n"
     ]
    }
   ],
   "source": [
    "# Remove bad characters by first naming them 'unavailable'. \n",
    "# Whitespace stripping did not work, but changing the values to helps to identify the bad data\n",
    "\n",
    "for i in unemployment_dict:\n",
    "  unemployment_dict[i] = \"unavailable\"\n",
    "      \n",
    "print(unemployment_dict)"
   ]
  },
  {
   "cell_type": "code",
   "execution_count": 20,
   "metadata": {
    "id": "sQXeWcOPUwvX"
   },
   "outputs": [],
   "source": [
    "## Replace values in main dataframe\n",
    "for i in unemployment_dict:\n",
    "  df1.loc[i, 'unemployment'] = unemployment_dict[i]"
   ]
  },
  {
   "cell_type": "code",
   "execution_count": 21,
   "metadata": {
    "id": "FBjDCx_7SWlO"
   },
   "outputs": [],
   "source": [
    "df2 = df1[df1['unemployment'] != 'unavailable']"
   ]
  },
  {
   "cell_type": "code",
   "execution_count": 22,
   "metadata": {
    "colab": {
     "base_uri": "https://localhost:8080/"
    },
    "id": "dz6HezZ5SWhN",
    "outputId": "a605dd39-ec88-46b3-b526-32712f1b9b77"
   },
   "outputs": [
    {
     "name": "stdout",
     "output_type": "stream",
     "text": [
      "<class 'pandas.core.frame.DataFrame'>\n",
      "Int64Index: 163897 entries, 0 to 163917\n",
      "Data columns (total 5 columns):\n",
      " #   Column        Non-Null Count   Dtype \n",
      "---  ------        --------------   ----- \n",
      " 0   series_id     163897 non-null  object\n",
      " 1   year          163897 non-null  int64 \n",
      " 2   period        163897 non-null  object\n",
      " 3   unemployment  163897 non-null  object\n",
      " 4   measure       163897 non-null  object\n",
      "dtypes: int64(1), object(4)\n",
      "memory usage: 7.5+ MB\n"
     ]
    }
   ],
   "source": [
    "df2.info()"
   ]
  },
  {
   "cell_type": "code",
   "execution_count": 23,
   "metadata": {
    "colab": {
     "base_uri": "https://localhost:8080/"
    },
    "id": "GIHMcUXVimTe",
    "outputId": "0bdcb337-fbd5-426c-bdba-e81af94f52b6"
   },
   "outputs": [
    {
     "name": "stderr",
     "output_type": "stream",
     "text": [
      "<ipython-input-23-cb4848acbc69>:3: SettingWithCopyWarning: \n",
      "A value is trying to be set on a copy of a slice from a DataFrame.\n",
      "Try using .loc[row_indexer,col_indexer] = value instead\n",
      "\n",
      "See the caveats in the documentation: https://pandas.pydata.org/pandas-docs/stable/user_guide/indexing.html#returning-a-view-versus-a-copy\n",
      "  df2['unemployment'] = df2['unemployment'].apply(float)\n"
     ]
    }
   ],
   "source": [
    "# Having removed the 'bad' values, the 'good' ones can now be converted to float data\n",
    "\n",
    "df2['unemployment'] = df2['unemployment'].apply(float)"
   ]
  },
  {
   "cell_type": "code",
   "execution_count": 24,
   "metadata": {
    "colab": {
     "base_uri": "https://localhost:8080/"
    },
    "id": "w8Jh-Iv6ANM-",
    "outputId": "41580a3e-5c58-4c0c-97e9-7b8a166ff38b"
   },
   "outputs": [],
   "source": [
    "# To keep the data small I filter 2020 to date\n",
    "\n",
    "# df3 = df2.loc[df2['year'] >= 2020]\n",
    "# df3.info()"
   ]
  },
  {
   "cell_type": "code",
   "execution_count": 25,
   "metadata": {
    "colab": {
     "base_uri": "https://localhost:8080/"
    },
    "id": "w_NO3F9GLQfb",
    "outputId": "3f723479-cc95-4ce6-87b7-f899f881ce23"
   },
   "outputs": [
    {
     "name": "stderr",
     "output_type": "stream",
     "text": [
      "<ipython-input-25-c5929f5651c5>:5: SettingWithCopyWarning: \n",
      "A value is trying to be set on a copy of a slice from a DataFrame.\n",
      "Try using .loc[row_indexer,col_indexer] = value instead\n",
      "\n",
      "See the caveats in the documentation: https://pandas.pydata.org/pandas-docs/stable/user_guide/indexing.html#returning-a-view-versus-a-copy\n",
      "  df2[\"area_code\"] = df2['series_id'].apply(lambda x: x[3:18])\n"
     ]
    }
   ],
   "source": [
    "# Since I need to know the names of the MSAs, I create a new column 'area_code' using appropriate indexes\n",
    "# from series_id\n",
    "# This new column will be used to create a join with the data file containing names of MSAs\n",
    "\n",
    "df2[\"area_code\"] = df2['series_id'].apply(lambda x: x[3:18])"
   ]
  },
  {
   "cell_type": "code",
   "execution_count": 26,
   "metadata": {
    "colab": {
     "base_uri": "https://localhost:8080/",
     "height": 206
    },
    "id": "_MujNwq2LQcc",
    "outputId": "2b7a3773-3bb3-4f15-9504-f19477da6f55"
   },
   "outputs": [
    {
     "data": {
      "text/html": [
       "<div>\n",
       "<style scoped>\n",
       "    .dataframe tbody tr th:only-of-type {\n",
       "        vertical-align: middle;\n",
       "    }\n",
       "\n",
       "    .dataframe tbody tr th {\n",
       "        vertical-align: top;\n",
       "    }\n",
       "\n",
       "    .dataframe thead th {\n",
       "        text-align: right;\n",
       "    }\n",
       "</style>\n",
       "<table border=\"1\" class=\"dataframe\">\n",
       "  <thead>\n",
       "    <tr style=\"text-align: right;\">\n",
       "      <th></th>\n",
       "      <th>series_id</th>\n",
       "      <th>year</th>\n",
       "      <th>period</th>\n",
       "      <th>unemployment</th>\n",
       "      <th>measure</th>\n",
       "      <th>area_code</th>\n",
       "    </tr>\n",
       "  </thead>\n",
       "  <tbody>\n",
       "    <tr>\n",
       "      <th>0</th>\n",
       "      <td>LASMT261982000000003</td>\n",
       "      <td>1990</td>\n",
       "      <td>M01</td>\n",
       "      <td>7.6</td>\n",
       "      <td>03</td>\n",
       "      <td>MT2619820000000</td>\n",
       "    </tr>\n",
       "    <tr>\n",
       "      <th>1</th>\n",
       "      <td>LASMT261982000000003</td>\n",
       "      <td>1990</td>\n",
       "      <td>M02</td>\n",
       "      <td>7.6</td>\n",
       "      <td>03</td>\n",
       "      <td>MT2619820000000</td>\n",
       "    </tr>\n",
       "    <tr>\n",
       "      <th>2</th>\n",
       "      <td>LASMT261982000000003</td>\n",
       "      <td>1990</td>\n",
       "      <td>M03</td>\n",
       "      <td>7.5</td>\n",
       "      <td>03</td>\n",
       "      <td>MT2619820000000</td>\n",
       "    </tr>\n",
       "    <tr>\n",
       "      <th>3</th>\n",
       "      <td>LASMT261982000000003</td>\n",
       "      <td>1990</td>\n",
       "      <td>M04</td>\n",
       "      <td>7.6</td>\n",
       "      <td>03</td>\n",
       "      <td>MT2619820000000</td>\n",
       "    </tr>\n",
       "    <tr>\n",
       "      <th>4</th>\n",
       "      <td>LASMT261982000000003</td>\n",
       "      <td>1990</td>\n",
       "      <td>M05</td>\n",
       "      <td>7.6</td>\n",
       "      <td>03</td>\n",
       "      <td>MT2619820000000</td>\n",
       "    </tr>\n",
       "  </tbody>\n",
       "</table>\n",
       "</div>"
      ],
      "text/plain": [
       "                        series_id  year period  unemployment measure  \\\n",
       "0  LASMT261982000000003            1990    M01           7.6      03   \n",
       "1  LASMT261982000000003            1990    M02           7.6      03   \n",
       "2  LASMT261982000000003            1990    M03           7.5      03   \n",
       "3  LASMT261982000000003            1990    M04           7.6      03   \n",
       "4  LASMT261982000000003            1990    M05           7.6      03   \n",
       "\n",
       "         area_code  \n",
       "0  MT2619820000000  \n",
       "1  MT2619820000000  \n",
       "2  MT2619820000000  \n",
       "3  MT2619820000000  \n",
       "4  MT2619820000000  "
      ]
     },
     "execution_count": 26,
     "metadata": {},
     "output_type": "execute_result"
    }
   ],
   "source": [
    "df2.head()"
   ]
  },
  {
   "cell_type": "code",
   "execution_count": 27,
   "metadata": {
    "id": "1-08qhAULP_S"
   },
   "outputs": [],
   "source": [
    "# df2 (unemployment values dataset) will be merged with df3 (area code names) to get \n",
    "# a panel dataset of unemployment rate in metropolitan statistical areas"
   ]
  },
  {
   "cell_type": "code",
   "execution_count": 28,
   "metadata": {
    "colab": {
     "base_uri": "https://localhost:8080/",
     "height": 206
    },
    "id": "Hq9rxE4gE9wP",
    "outputId": "3c1add3e-53a1-4cb3-9861-6e3bf1bc939e"
   },
   "outputs": [
    {
     "data": {
      "text/html": [
       "<div>\n",
       "<style scoped>\n",
       "    .dataframe tbody tr th:only-of-type {\n",
       "        vertical-align: middle;\n",
       "    }\n",
       "\n",
       "    .dataframe tbody tr th {\n",
       "        vertical-align: top;\n",
       "    }\n",
       "\n",
       "    .dataframe thead th {\n",
       "        text-align: right;\n",
       "    }\n",
       "</style>\n",
       "<table border=\"1\" class=\"dataframe\">\n",
       "  <thead>\n",
       "    <tr style=\"text-align: right;\">\n",
       "      <th></th>\n",
       "      <th>area_type_code</th>\n",
       "      <th>area_code</th>\n",
       "      <th>area_text</th>\n",
       "      <th>display_level</th>\n",
       "      <th>selectable</th>\n",
       "      <th>sort_sequence</th>\n",
       "    </tr>\n",
       "  </thead>\n",
       "  <tbody>\n",
       "    <tr>\n",
       "      <th>0</th>\n",
       "      <td>A</td>\n",
       "      <td>ST0100000000000</td>\n",
       "      <td>Alabama</td>\n",
       "      <td>0</td>\n",
       "      <td>T</td>\n",
       "      <td>1</td>\n",
       "    </tr>\n",
       "    <tr>\n",
       "      <th>1</th>\n",
       "      <td>A</td>\n",
       "      <td>ST0200000000000</td>\n",
       "      <td>Alaska</td>\n",
       "      <td>0</td>\n",
       "      <td>T</td>\n",
       "      <td>146</td>\n",
       "    </tr>\n",
       "    <tr>\n",
       "      <th>2</th>\n",
       "      <td>A</td>\n",
       "      <td>ST0400000000000</td>\n",
       "      <td>Arizona</td>\n",
       "      <td>0</td>\n",
       "      <td>T</td>\n",
       "      <td>188</td>\n",
       "    </tr>\n",
       "    <tr>\n",
       "      <th>3</th>\n",
       "      <td>A</td>\n",
       "      <td>ST0500000000000</td>\n",
       "      <td>Arkansas</td>\n",
       "      <td>0</td>\n",
       "      <td>T</td>\n",
       "      <td>252</td>\n",
       "    </tr>\n",
       "    <tr>\n",
       "      <th>4</th>\n",
       "      <td>A</td>\n",
       "      <td>ST0600000000000</td>\n",
       "      <td>California</td>\n",
       "      <td>0</td>\n",
       "      <td>T</td>\n",
       "      <td>378</td>\n",
       "    </tr>\n",
       "  </tbody>\n",
       "</table>\n",
       "</div>"
      ],
      "text/plain": [
       "  area_type_code        area_code   area_text  display_level selectable  \\\n",
       "0              A  ST0100000000000     Alabama              0          T   \n",
       "1              A  ST0200000000000      Alaska              0          T   \n",
       "2              A  ST0400000000000     Arizona              0          T   \n",
       "3              A  ST0500000000000    Arkansas              0          T   \n",
       "4              A  ST0600000000000  California              0          T   \n",
       "\n",
       "   sort_sequence  \n",
       "0              1  \n",
       "1            146  \n",
       "2            188  \n",
       "3            252  \n",
       "4            378  "
      ]
     },
     "execution_count": 28,
     "metadata": {},
     "output_type": "execute_result"
    }
   ],
   "source": [
    "# Read in the area codes data. The data is tab delimited\n",
    "# This data will be mapped to the unemployment time series\n",
    "\n",
    "df3 = pd.read_csv('/Users/toluayangbayi/Documents/DataScience/Using-LAUS-flatfiles/area_codes.csv', delimiter=\"\\t\")\n",
    "df3.head(5)"
   ]
  },
  {
   "cell_type": "code",
   "execution_count": 29,
   "metadata": {
    "colab": {
     "base_uri": "https://localhost:8080/"
    },
    "id": "L6TGgOaUE9tC",
    "outputId": "40fc3b74-3ab7-4341-fe3b-fd16ce5dc3ff"
   },
   "outputs": [
    {
     "data": {
      "text/plain": [
       "Index(['area_type_code', 'area_code', 'area_text', 'display_level',\n",
       "       'selectable', 'sort_sequence'],\n",
       "      dtype='object')"
      ]
     },
     "execution_count": 29,
     "metadata": {},
     "output_type": "execute_result"
    }
   ],
   "source": [
    "# Check for issues with column names\n",
    "\n",
    "df3.columns"
   ]
  },
  {
   "cell_type": "code",
   "execution_count": 30,
   "metadata": {
    "colab": {
     "base_uri": "https://localhost:8080/"
    },
    "id": "hAb9rIpPE9pk",
    "outputId": "778117b4-3460-4f29-b060-3749423226ae"
   },
   "outputs": [
    {
     "data": {
      "text/plain": [
       "F    3222\n",
       "G    1879\n",
       "H    1430\n",
       "D     562\n",
       "B     396\n",
       "I     313\n",
       "E     178\n",
       "K     160\n",
       "J      71\n",
       "A      52\n",
       "C      38\n",
       "N       9\n",
       "L       7\n",
       "M       4\n",
       "Name: area_type_code, dtype: int64"
      ]
     },
     "execution_count": 30,
     "metadata": {},
     "output_type": "execute_result"
    }
   ],
   "source": [
    "# Will use area code B for metropolitan statistical areas\n",
    "# See https://download.bls.gov/pub/time.series/la/la.area_type\n",
    "\n",
    "df3['area_type_code'].value_counts()"
   ]
  },
  {
   "cell_type": "code",
   "execution_count": 31,
   "metadata": {
    "id": "Ea0HHR6sE9fS"
   },
   "outputs": [],
   "source": [
    "# Filter metropolitan areas\n",
    "df4 = df3[df3['area_type_code'] == 'B']"
   ]
  },
  {
   "cell_type": "code",
   "execution_count": 32,
   "metadata": {
    "colab": {
     "base_uri": "https://localhost:8080/"
    },
    "id": "TRZC54vdE9bS",
    "outputId": "3162ab1d-7dbf-4196-c9b7-52e2935c14e4"
   },
   "outputs": [
    {
     "data": {
      "text/plain": [
       "B    396\n",
       "Name: area_type_code, dtype: int64"
      ]
     },
     "execution_count": 32,
     "metadata": {},
     "output_type": "execute_result"
    }
   ],
   "source": [
    "df4['area_type_code'].value_counts()"
   ]
  },
  {
   "cell_type": "code",
   "execution_count": 33,
   "metadata": {
    "id": "j2KV88EhE9XS"
   },
   "outputs": [],
   "source": [
    "# Merge unemployment statistics with MSA names\n",
    "\n",
    "df5 = df2.merge(df4, on='area_code')"
   ]
  },
  {
   "cell_type": "code",
   "execution_count": 34,
   "metadata": {
    "colab": {
     "base_uri": "https://localhost:8080/"
    },
    "id": "sORCzoUZE9MB",
    "outputId": "a1794490-981c-4b2a-a045-03c6c6d88a9f"
   },
   "outputs": [
    {
     "name": "stdout",
     "output_type": "stream",
     "text": [
      "<class 'pandas.core.frame.DataFrame'>\n",
      "Int64Index: 163897 entries, 0 to 163896\n",
      "Data columns (total 11 columns):\n",
      " #   Column          Non-Null Count   Dtype  \n",
      "---  ------          --------------   -----  \n",
      " 0   series_id       163897 non-null  object \n",
      " 1   year            163897 non-null  int64  \n",
      " 2   period          163897 non-null  object \n",
      " 3   unemployment    163897 non-null  float64\n",
      " 4   measure         163897 non-null  object \n",
      " 5   area_code       163897 non-null  object \n",
      " 6   area_type_code  163897 non-null  object \n",
      " 7   area_text       163897 non-null  object \n",
      " 8   display_level   163897 non-null  int64  \n",
      " 9   selectable      163897 non-null  object \n",
      " 10  sort_sequence   163897 non-null  int64  \n",
      "dtypes: float64(1), int64(3), object(7)\n",
      "memory usage: 15.0+ MB\n"
     ]
    }
   ],
   "source": [
    "df5.info()"
   ]
  },
  {
   "cell_type": "code",
   "execution_count": 35,
   "metadata": {
    "colab": {
     "base_uri": "https://localhost:8080/",
     "height": 660
    },
    "id": "eXNd9ZwtIzYH",
    "outputId": "6b50d68b-f4df-492e-e184-80b576678602"
   },
   "outputs": [
    {
     "data": {
      "text/html": [
       "<div>\n",
       "<style scoped>\n",
       "    .dataframe tbody tr th:only-of-type {\n",
       "        vertical-align: middle;\n",
       "    }\n",
       "\n",
       "    .dataframe tbody tr th {\n",
       "        vertical-align: top;\n",
       "    }\n",
       "\n",
       "    .dataframe thead th {\n",
       "        text-align: right;\n",
       "    }\n",
       "</style>\n",
       "<table border=\"1\" class=\"dataframe\">\n",
       "  <thead>\n",
       "    <tr style=\"text-align: right;\">\n",
       "      <th></th>\n",
       "      <th>series_id</th>\n",
       "      <th>year</th>\n",
       "      <th>period</th>\n",
       "      <th>unemployment</th>\n",
       "      <th>measure</th>\n",
       "      <th>area_code</th>\n",
       "      <th>area_type_code</th>\n",
       "      <th>area_text</th>\n",
       "      <th>display_level</th>\n",
       "      <th>selectable</th>\n",
       "      <th>sort_sequence</th>\n",
       "    </tr>\n",
       "  </thead>\n",
       "  <tbody>\n",
       "    <tr>\n",
       "      <th>0</th>\n",
       "      <td>LASMT261982000000003</td>\n",
       "      <td>1990</td>\n",
       "      <td>M01</td>\n",
       "      <td>7.6</td>\n",
       "      <td>03</td>\n",
       "      <td>MT2619820000000</td>\n",
       "      <td>B</td>\n",
       "      <td>Detroit-Warren-Dearborn, MI Metropolitan Stati...</td>\n",
       "      <td>0</td>\n",
       "      <td>T</td>\n",
       "      <td>3733</td>\n",
       "    </tr>\n",
       "    <tr>\n",
       "      <th>1</th>\n",
       "      <td>LASMT261982000000003</td>\n",
       "      <td>1990</td>\n",
       "      <td>M02</td>\n",
       "      <td>7.6</td>\n",
       "      <td>03</td>\n",
       "      <td>MT2619820000000</td>\n",
       "      <td>B</td>\n",
       "      <td>Detroit-Warren-Dearborn, MI Metropolitan Stati...</td>\n",
       "      <td>0</td>\n",
       "      <td>T</td>\n",
       "      <td>3733</td>\n",
       "    </tr>\n",
       "    <tr>\n",
       "      <th>2</th>\n",
       "      <td>LASMT261982000000003</td>\n",
       "      <td>1990</td>\n",
       "      <td>M03</td>\n",
       "      <td>7.5</td>\n",
       "      <td>03</td>\n",
       "      <td>MT2619820000000</td>\n",
       "      <td>B</td>\n",
       "      <td>Detroit-Warren-Dearborn, MI Metropolitan Stati...</td>\n",
       "      <td>0</td>\n",
       "      <td>T</td>\n",
       "      <td>3733</td>\n",
       "    </tr>\n",
       "    <tr>\n",
       "      <th>3</th>\n",
       "      <td>LASMT261982000000003</td>\n",
       "      <td>1990</td>\n",
       "      <td>M04</td>\n",
       "      <td>7.6</td>\n",
       "      <td>03</td>\n",
       "      <td>MT2619820000000</td>\n",
       "      <td>B</td>\n",
       "      <td>Detroit-Warren-Dearborn, MI Metropolitan Stati...</td>\n",
       "      <td>0</td>\n",
       "      <td>T</td>\n",
       "      <td>3733</td>\n",
       "    </tr>\n",
       "    <tr>\n",
       "      <th>4</th>\n",
       "      <td>LASMT261982000000003</td>\n",
       "      <td>1990</td>\n",
       "      <td>M05</td>\n",
       "      <td>7.6</td>\n",
       "      <td>03</td>\n",
       "      <td>MT2619820000000</td>\n",
       "      <td>B</td>\n",
       "      <td>Detroit-Warren-Dearborn, MI Metropolitan Stati...</td>\n",
       "      <td>0</td>\n",
       "      <td>T</td>\n",
       "      <td>3733</td>\n",
       "    </tr>\n",
       "  </tbody>\n",
       "</table>\n",
       "</div>"
      ],
      "text/plain": [
       "                        series_id  year period  unemployment measure  \\\n",
       "0  LASMT261982000000003            1990    M01           7.6      03   \n",
       "1  LASMT261982000000003            1990    M02           7.6      03   \n",
       "2  LASMT261982000000003            1990    M03           7.5      03   \n",
       "3  LASMT261982000000003            1990    M04           7.6      03   \n",
       "4  LASMT261982000000003            1990    M05           7.6      03   \n",
       "\n",
       "         area_code area_type_code  \\\n",
       "0  MT2619820000000              B   \n",
       "1  MT2619820000000              B   \n",
       "2  MT2619820000000              B   \n",
       "3  MT2619820000000              B   \n",
       "4  MT2619820000000              B   \n",
       "\n",
       "                                           area_text  display_level  \\\n",
       "0  Detroit-Warren-Dearborn, MI Metropolitan Stati...              0   \n",
       "1  Detroit-Warren-Dearborn, MI Metropolitan Stati...              0   \n",
       "2  Detroit-Warren-Dearborn, MI Metropolitan Stati...              0   \n",
       "3  Detroit-Warren-Dearborn, MI Metropolitan Stati...              0   \n",
       "4  Detroit-Warren-Dearborn, MI Metropolitan Stati...              0   \n",
       "\n",
       "  selectable  sort_sequence  \n",
       "0          T           3733  \n",
       "1          T           3733  \n",
       "2          T           3733  \n",
       "3          T           3733  \n",
       "4          T           3733  "
      ]
     },
     "execution_count": 35,
     "metadata": {},
     "output_type": "execute_result"
    }
   ],
   "source": [
    "df5.head()"
   ]
  },
  {
   "cell_type": "code",
   "execution_count": 36,
   "metadata": {
    "colab": {
     "base_uri": "https://localhost:8080/"
    },
    "id": "9PmbT4s_IzL0",
    "outputId": "5d3ba662-6823-4cdf-fa54-1d7990924267"
   },
   "outputs": [
    {
     "data": {
      "text/plain": [
       "M01    12736\n",
       "M02    12736\n",
       "M05    12736\n",
       "M06    12736\n",
       "M07    12736\n",
       "M08    12736\n",
       "M09    12736\n",
       "M03    12729\n",
       "M04    12729\n",
       "M10    12342\n",
       "M11    12338\n",
       "M12    12338\n",
       "M13    12269\n",
       "Name: period, dtype: int64"
      ]
     },
     "execution_count": 36,
     "metadata": {},
     "output_type": "execute_result"
    }
   ],
   "source": [
    "# Check the periodicity of the data using the 'period' column\n",
    "# There are 13 values where M13 is the annual data.\n",
    "\n",
    "df5.period.value_counts()"
   ]
  },
  {
   "cell_type": "code",
   "execution_count": 37,
   "metadata": {
    "colab": {
     "base_uri": "https://localhost:8080/",
     "height": 573
    },
    "id": "RG2xk29OIy-2",
    "outputId": "160d27cb-3a9d-47e9-92f3-c76b2e178220"
   },
   "outputs": [
    {
     "data": {
      "text/html": [
       "<div>\n",
       "<style scoped>\n",
       "    .dataframe tbody tr th:only-of-type {\n",
       "        vertical-align: middle;\n",
       "    }\n",
       "\n",
       "    .dataframe tbody tr th {\n",
       "        vertical-align: top;\n",
       "    }\n",
       "\n",
       "    .dataframe thead th {\n",
       "        text-align: right;\n",
       "    }\n",
       "</style>\n",
       "<table border=\"1\" class=\"dataframe\">\n",
       "  <thead>\n",
       "    <tr style=\"text-align: right;\">\n",
       "      <th></th>\n",
       "      <th>series_id</th>\n",
       "      <th>year</th>\n",
       "      <th>period</th>\n",
       "      <th>unemployment</th>\n",
       "      <th>measure</th>\n",
       "      <th>area_code</th>\n",
       "      <th>area_type_code</th>\n",
       "      <th>area_text</th>\n",
       "      <th>display_level</th>\n",
       "      <th>selectable</th>\n",
       "      <th>sort_sequence</th>\n",
       "    </tr>\n",
       "  </thead>\n",
       "  <tbody>\n",
       "    <tr>\n",
       "      <th>394</th>\n",
       "      <td>LAUMT261982000000003</td>\n",
       "      <td>1990</td>\n",
       "      <td>M13</td>\n",
       "      <td>7.9</td>\n",
       "      <td>03</td>\n",
       "      <td>MT2619820000000</td>\n",
       "      <td>B</td>\n",
       "      <td>Detroit-Warren-Dearborn, MI Metropolitan Stati...</td>\n",
       "      <td>0</td>\n",
       "      <td>T</td>\n",
       "      <td>3733</td>\n",
       "    </tr>\n",
       "    <tr>\n",
       "      <th>407</th>\n",
       "      <td>LAUMT261982000000003</td>\n",
       "      <td>1991</td>\n",
       "      <td>M13</td>\n",
       "      <td>9.8</td>\n",
       "      <td>03</td>\n",
       "      <td>MT2619820000000</td>\n",
       "      <td>B</td>\n",
       "      <td>Detroit-Warren-Dearborn, MI Metropolitan Stati...</td>\n",
       "      <td>0</td>\n",
       "      <td>T</td>\n",
       "      <td>3733</td>\n",
       "    </tr>\n",
       "    <tr>\n",
       "      <th>420</th>\n",
       "      <td>LAUMT261982000000003</td>\n",
       "      <td>1992</td>\n",
       "      <td>M13</td>\n",
       "      <td>9.5</td>\n",
       "      <td>03</td>\n",
       "      <td>MT2619820000000</td>\n",
       "      <td>B</td>\n",
       "      <td>Detroit-Warren-Dearborn, MI Metropolitan Stati...</td>\n",
       "      <td>0</td>\n",
       "      <td>T</td>\n",
       "      <td>3733</td>\n",
       "    </tr>\n",
       "    <tr>\n",
       "      <th>433</th>\n",
       "      <td>LAUMT261982000000003</td>\n",
       "      <td>1993</td>\n",
       "      <td>M13</td>\n",
       "      <td>7.3</td>\n",
       "      <td>03</td>\n",
       "      <td>MT2619820000000</td>\n",
       "      <td>B</td>\n",
       "      <td>Detroit-Warren-Dearborn, MI Metropolitan Stati...</td>\n",
       "      <td>0</td>\n",
       "      <td>T</td>\n",
       "      <td>3733</td>\n",
       "    </tr>\n",
       "    <tr>\n",
       "      <th>446</th>\n",
       "      <td>LAUMT261982000000003</td>\n",
       "      <td>1994</td>\n",
       "      <td>M13</td>\n",
       "      <td>5.7</td>\n",
       "      <td>03</td>\n",
       "      <td>MT2619820000000</td>\n",
       "      <td>B</td>\n",
       "      <td>Detroit-Warren-Dearborn, MI Metropolitan Stati...</td>\n",
       "      <td>0</td>\n",
       "      <td>T</td>\n",
       "      <td>3733</td>\n",
       "    </tr>\n",
       "  </tbody>\n",
       "</table>\n",
       "</div>"
      ],
      "text/plain": [
       "                          series_id  year period  unemployment measure  \\\n",
       "394  LAUMT261982000000003            1990    M13           7.9      03   \n",
       "407  LAUMT261982000000003            1991    M13           9.8      03   \n",
       "420  LAUMT261982000000003            1992    M13           9.5      03   \n",
       "433  LAUMT261982000000003            1993    M13           7.3      03   \n",
       "446  LAUMT261982000000003            1994    M13           5.7      03   \n",
       "\n",
       "           area_code area_type_code  \\\n",
       "394  MT2619820000000              B   \n",
       "407  MT2619820000000              B   \n",
       "420  MT2619820000000              B   \n",
       "433  MT2619820000000              B   \n",
       "446  MT2619820000000              B   \n",
       "\n",
       "                                             area_text  display_level  \\\n",
       "394  Detroit-Warren-Dearborn, MI Metropolitan Stati...              0   \n",
       "407  Detroit-Warren-Dearborn, MI Metropolitan Stati...              0   \n",
       "420  Detroit-Warren-Dearborn, MI Metropolitan Stati...              0   \n",
       "433  Detroit-Warren-Dearborn, MI Metropolitan Stati...              0   \n",
       "446  Detroit-Warren-Dearborn, MI Metropolitan Stati...              0   \n",
       "\n",
       "    selectable  sort_sequence  \n",
       "394          T           3733  \n",
       "407          T           3733  \n",
       "420          T           3733  \n",
       "433          T           3733  \n",
       "446          T           3733  "
      ]
     },
     "execution_count": 37,
     "metadata": {},
     "output_type": "execute_result"
    }
   ],
   "source": [
    "# Rows where the period value is M13 can be selected for analysis with annual data\n",
    "\n",
    "annual_unemployment = df5[df5['period'] == 'M13']\n",
    "annual_unemployment.head()"
   ]
  },
  {
   "cell_type": "code",
   "execution_count": 38,
   "metadata": {
    "colab": {
     "base_uri": "https://localhost:8080/",
     "height": 660
    },
    "id": "YwAuy9Vf6EVP",
    "outputId": "53db0ee5-7a90-496b-ef66-c255fd4e42e0"
   },
   "outputs": [
    {
     "data": {
      "text/html": [
       "<div>\n",
       "<style scoped>\n",
       "    .dataframe tbody tr th:only-of-type {\n",
       "        vertical-align: middle;\n",
       "    }\n",
       "\n",
       "    .dataframe tbody tr th {\n",
       "        vertical-align: top;\n",
       "    }\n",
       "\n",
       "    .dataframe thead th {\n",
       "        text-align: right;\n",
       "    }\n",
       "</style>\n",
       "<table border=\"1\" class=\"dataframe\">\n",
       "  <thead>\n",
       "    <tr style=\"text-align: right;\">\n",
       "      <th></th>\n",
       "      <th>series_id</th>\n",
       "      <th>year</th>\n",
       "      <th>period</th>\n",
       "      <th>unemployment</th>\n",
       "      <th>measure</th>\n",
       "      <th>area_code</th>\n",
       "      <th>area_type_code</th>\n",
       "      <th>area_text</th>\n",
       "      <th>display_level</th>\n",
       "      <th>selectable</th>\n",
       "      <th>sort_sequence</th>\n",
       "    </tr>\n",
       "  </thead>\n",
       "  <tbody>\n",
       "    <tr>\n",
       "      <th>0</th>\n",
       "      <td>LASMT261982000000003</td>\n",
       "      <td>1990</td>\n",
       "      <td>M01</td>\n",
       "      <td>7.6</td>\n",
       "      <td>03</td>\n",
       "      <td>MT2619820000000</td>\n",
       "      <td>B</td>\n",
       "      <td>Detroit-Warren-Dearborn, MI Metropolitan Stati...</td>\n",
       "      <td>0</td>\n",
       "      <td>T</td>\n",
       "      <td>3733</td>\n",
       "    </tr>\n",
       "    <tr>\n",
       "      <th>1</th>\n",
       "      <td>LASMT261982000000003</td>\n",
       "      <td>1990</td>\n",
       "      <td>M02</td>\n",
       "      <td>7.6</td>\n",
       "      <td>03</td>\n",
       "      <td>MT2619820000000</td>\n",
       "      <td>B</td>\n",
       "      <td>Detroit-Warren-Dearborn, MI Metropolitan Stati...</td>\n",
       "      <td>0</td>\n",
       "      <td>T</td>\n",
       "      <td>3733</td>\n",
       "    </tr>\n",
       "    <tr>\n",
       "      <th>2</th>\n",
       "      <td>LASMT261982000000003</td>\n",
       "      <td>1990</td>\n",
       "      <td>M03</td>\n",
       "      <td>7.5</td>\n",
       "      <td>03</td>\n",
       "      <td>MT2619820000000</td>\n",
       "      <td>B</td>\n",
       "      <td>Detroit-Warren-Dearborn, MI Metropolitan Stati...</td>\n",
       "      <td>0</td>\n",
       "      <td>T</td>\n",
       "      <td>3733</td>\n",
       "    </tr>\n",
       "    <tr>\n",
       "      <th>3</th>\n",
       "      <td>LASMT261982000000003</td>\n",
       "      <td>1990</td>\n",
       "      <td>M04</td>\n",
       "      <td>7.6</td>\n",
       "      <td>03</td>\n",
       "      <td>MT2619820000000</td>\n",
       "      <td>B</td>\n",
       "      <td>Detroit-Warren-Dearborn, MI Metropolitan Stati...</td>\n",
       "      <td>0</td>\n",
       "      <td>T</td>\n",
       "      <td>3733</td>\n",
       "    </tr>\n",
       "    <tr>\n",
       "      <th>4</th>\n",
       "      <td>LASMT261982000000003</td>\n",
       "      <td>1990</td>\n",
       "      <td>M05</td>\n",
       "      <td>7.6</td>\n",
       "      <td>03</td>\n",
       "      <td>MT2619820000000</td>\n",
       "      <td>B</td>\n",
       "      <td>Detroit-Warren-Dearborn, MI Metropolitan Stati...</td>\n",
       "      <td>0</td>\n",
       "      <td>T</td>\n",
       "      <td>3733</td>\n",
       "    </tr>\n",
       "  </tbody>\n",
       "</table>\n",
       "</div>"
      ],
      "text/plain": [
       "                        series_id  year period  unemployment measure  \\\n",
       "0  LASMT261982000000003            1990    M01           7.6      03   \n",
       "1  LASMT261982000000003            1990    M02           7.6      03   \n",
       "2  LASMT261982000000003            1990    M03           7.5      03   \n",
       "3  LASMT261982000000003            1990    M04           7.6      03   \n",
       "4  LASMT261982000000003            1990    M05           7.6      03   \n",
       "\n",
       "         area_code area_type_code  \\\n",
       "0  MT2619820000000              B   \n",
       "1  MT2619820000000              B   \n",
       "2  MT2619820000000              B   \n",
       "3  MT2619820000000              B   \n",
       "4  MT2619820000000              B   \n",
       "\n",
       "                                           area_text  display_level  \\\n",
       "0  Detroit-Warren-Dearborn, MI Metropolitan Stati...              0   \n",
       "1  Detroit-Warren-Dearborn, MI Metropolitan Stati...              0   \n",
       "2  Detroit-Warren-Dearborn, MI Metropolitan Stati...              0   \n",
       "3  Detroit-Warren-Dearborn, MI Metropolitan Stati...              0   \n",
       "4  Detroit-Warren-Dearborn, MI Metropolitan Stati...              0   \n",
       "\n",
       "  selectable  sort_sequence  \n",
       "0          T           3733  \n",
       "1          T           3733  \n",
       "2          T           3733  \n",
       "3          T           3733  \n",
       "4          T           3733  "
      ]
     },
     "execution_count": 38,
     "metadata": {},
     "output_type": "execute_result"
    }
   ],
   "source": [
    "# But I am interested in the monthly data so I filtered M13 rows\n",
    "\n",
    "monthly_unemployment = df5[df5['period'] != 'M13']\n",
    "monthly_unemployment.head()"
   ]
  },
  {
   "cell_type": "code",
   "execution_count": 39,
   "metadata": {
    "id": "LJ1dJJOM6VUG"
   },
   "outputs": [],
   "source": [
    "# I save the monthly data to csv\n",
    "monthly_unemployment.to_csv(\"/Users/toluayangbayi/Documents/DataScience/Using-LAUS-flatfiles/monthly_unemployment.csv\", index=False)"
   ]
  },
  {
   "cell_type": "code",
   "execution_count": 40,
   "metadata": {
    "id": "FykgfkEySVDB"
   },
   "outputs": [],
   "source": [
    "# This can be read in during subsequent analysis\n",
    "# monthly_unemployment = pd.read_csv(\"/Users/toluayangbayi/Documents/DataScience/Using-LAUS-flatfiles/monthly_unemployment.csv\")"
   ]
  },
  {
   "cell_type": "code",
   "execution_count": 41,
   "metadata": {
    "id": "Oev2obgUULac"
   },
   "outputs": [],
   "source": [
    "# Some further data cleaning by dropping out unneeded columns of data\n",
    "\n",
    "monthly_unemploymentdf = monthly_unemployment.drop(['series_id', 'display_level', 'selectable', 'sort_sequence'], axis = 1)"
   ]
  },
  {
   "cell_type": "code",
   "execution_count": 42,
   "metadata": {
    "colab": {
     "base_uri": "https://localhost:8080/",
     "height": 206
    },
    "id": "fhD1SNCzULXA",
    "outputId": "c182480f-9702-4b82-d494-53ade5cd29fe"
   },
   "outputs": [
    {
     "data": {
      "text/html": [
       "<div>\n",
       "<style scoped>\n",
       "    .dataframe tbody tr th:only-of-type {\n",
       "        vertical-align: middle;\n",
       "    }\n",
       "\n",
       "    .dataframe tbody tr th {\n",
       "        vertical-align: top;\n",
       "    }\n",
       "\n",
       "    .dataframe thead th {\n",
       "        text-align: right;\n",
       "    }\n",
       "</style>\n",
       "<table border=\"1\" class=\"dataframe\">\n",
       "  <thead>\n",
       "    <tr style=\"text-align: right;\">\n",
       "      <th></th>\n",
       "      <th>year</th>\n",
       "      <th>period</th>\n",
       "      <th>unemployment</th>\n",
       "      <th>measure</th>\n",
       "      <th>area_code</th>\n",
       "      <th>area_type_code</th>\n",
       "      <th>area_text</th>\n",
       "    </tr>\n",
       "  </thead>\n",
       "  <tbody>\n",
       "    <tr>\n",
       "      <th>0</th>\n",
       "      <td>1990</td>\n",
       "      <td>M01</td>\n",
       "      <td>7.6</td>\n",
       "      <td>03</td>\n",
       "      <td>MT2619820000000</td>\n",
       "      <td>B</td>\n",
       "      <td>Detroit-Warren-Dearborn, MI Metropolitan Stati...</td>\n",
       "    </tr>\n",
       "    <tr>\n",
       "      <th>1</th>\n",
       "      <td>1990</td>\n",
       "      <td>M02</td>\n",
       "      <td>7.6</td>\n",
       "      <td>03</td>\n",
       "      <td>MT2619820000000</td>\n",
       "      <td>B</td>\n",
       "      <td>Detroit-Warren-Dearborn, MI Metropolitan Stati...</td>\n",
       "    </tr>\n",
       "    <tr>\n",
       "      <th>2</th>\n",
       "      <td>1990</td>\n",
       "      <td>M03</td>\n",
       "      <td>7.5</td>\n",
       "      <td>03</td>\n",
       "      <td>MT2619820000000</td>\n",
       "      <td>B</td>\n",
       "      <td>Detroit-Warren-Dearborn, MI Metropolitan Stati...</td>\n",
       "    </tr>\n",
       "    <tr>\n",
       "      <th>3</th>\n",
       "      <td>1990</td>\n",
       "      <td>M04</td>\n",
       "      <td>7.6</td>\n",
       "      <td>03</td>\n",
       "      <td>MT2619820000000</td>\n",
       "      <td>B</td>\n",
       "      <td>Detroit-Warren-Dearborn, MI Metropolitan Stati...</td>\n",
       "    </tr>\n",
       "    <tr>\n",
       "      <th>4</th>\n",
       "      <td>1990</td>\n",
       "      <td>M05</td>\n",
       "      <td>7.6</td>\n",
       "      <td>03</td>\n",
       "      <td>MT2619820000000</td>\n",
       "      <td>B</td>\n",
       "      <td>Detroit-Warren-Dearborn, MI Metropolitan Stati...</td>\n",
       "    </tr>\n",
       "  </tbody>\n",
       "</table>\n",
       "</div>"
      ],
      "text/plain": [
       "   year period  unemployment measure        area_code area_type_code  \\\n",
       "0  1990    M01           7.6      03  MT2619820000000              B   \n",
       "1  1990    M02           7.6      03  MT2619820000000              B   \n",
       "2  1990    M03           7.5      03  MT2619820000000              B   \n",
       "3  1990    M04           7.6      03  MT2619820000000              B   \n",
       "4  1990    M05           7.6      03  MT2619820000000              B   \n",
       "\n",
       "                                           area_text  \n",
       "0  Detroit-Warren-Dearborn, MI Metropolitan Stati...  \n",
       "1  Detroit-Warren-Dearborn, MI Metropolitan Stati...  \n",
       "2  Detroit-Warren-Dearborn, MI Metropolitan Stati...  \n",
       "3  Detroit-Warren-Dearborn, MI Metropolitan Stati...  \n",
       "4  Detroit-Warren-Dearborn, MI Metropolitan Stati...  "
      ]
     },
     "execution_count": 42,
     "metadata": {},
     "output_type": "execute_result"
    }
   ],
   "source": [
    "# Finally I have a clean dataframe of monthly unemployment data for 396 U.S. metropolitan statistical areas\n",
    "# Of course some further cleaning can be done for instance removing 'Metropolitan Statistical Area' from \n",
    "# 'area_txt' column to produce the city-state names of the MSA only. A column of city or states only can be produced too.\n",
    "\n",
    "monthly_unemploymentdf.head()"
   ]
  },
  {
   "cell_type": "code",
   "execution_count": null,
   "metadata": {
    "id": "bzzM1JR6aHMd"
   },
   "outputs": [],
   "source": []
  }
 ],
 "metadata": {
  "colab": {
   "name": "DataFrame from LAUS flat files_v1.ipynb",
   "provenance": []
  },
  "kernelspec": {
   "display_name": "Python 3",
   "language": "python",
   "name": "python3"
  },
  "language_info": {
   "codemirror_mode": {
    "name": "ipython",
    "version": 3
   },
   "file_extension": ".py",
   "mimetype": "text/x-python",
   "name": "python",
   "nbconvert_exporter": "python",
   "pygments_lexer": "ipython3",
   "version": "3.8.3"
  }
 },
 "nbformat": 4,
 "nbformat_minor": 1
}
